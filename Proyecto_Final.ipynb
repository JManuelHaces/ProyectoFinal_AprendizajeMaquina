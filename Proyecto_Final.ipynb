{
 "cells": [
  {
   "cell_type": "markdown",
   "source": [
    "# Calculando la Resistencia para Mezclas de Concreto\n",
    "\n",
    "\n",
    "### Integrantes:\n",
    "- Cárdenas Gallardo Paula Daniela – 733720\n",
    "- Haces López José Manuel – 734759\n",
    "- Martin Vázquez Misael – 721908\n",
    "- Villa Domínguez Paulo Adrián – 733773\n",
    "\n",
    "\n",
    "## Objetivos:\n",
    "- asd\n",
    "- as\n",
    "\n",
    "\n",
    "##"
   ],
   "metadata": {
    "collapsed": false
   }
  },
  {
   "cell_type": "code",
   "execution_count": null,
   "outputs": [],
   "source": [],
   "metadata": {
    "collapsed": false
   }
  }
 ],
 "metadata": {
  "kernelspec": {
   "display_name": "Python 3",
   "language": "python",
   "name": "python3"
  },
  "language_info": {
   "codemirror_mode": {
    "name": "ipython",
    "version": 2
   },
   "file_extension": ".py",
   "mimetype": "text/x-python",
   "name": "python",
   "nbconvert_exporter": "python",
   "pygments_lexer": "ipython2",
   "version": "2.7.6"
  }
 },
 "nbformat": 4,
 "nbformat_minor": 0
}
